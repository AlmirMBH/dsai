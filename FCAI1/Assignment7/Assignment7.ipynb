{
  "nbformat": 4,
  "nbformat_minor": 0,
  "metadata": {
    "colab": {
      "provenance": [],
      "gpuType": "T4"
    },
    "kernelspec": {
      "name": "python3",
      "display_name": "Python 3"
    },
    "language_info": {
      "name": "python"
    },
    "accelerator": "GPU"
  },
  "cells": [
    {
      "cell_type": "markdown",
      "source": [
        "# CONVOLUTIONAL NEURAL NETWORK\n",
        "## Convolutional layer\n",
        "Convolution represents a straightforward application of a filter to an input, resulting in an activation—the activation transforms the input to a neuron into an output, which is then passed to the next layer. When this application is repeated multiple times, the resulting output is an activation map, or a feature map, which highlights the locations and intensities of recognized features in the input, such as an image.\n",
        "## Convolutional Filter\n",
        "In the context of CNNs, convolution is a linear operation that involves multiplying a set of weights with the input. Since this technique is designed for two-dimensional inputs, such as images, the multiplication is performed between a set of input data and a two-dimensional array of weights, also known as a filter or kernel. The filter is always smaller than the input data (image), and the multiplication between the filter and the input is scalar multiplication. Scalar multiplication is necessary because the result of this operation must be a single value (scalar) rather than an array or matrix of new values. Using a filter smaller than the input data allows the application of the same filter to the input data multiple times, i.e., at different locations in the image. Systematically applying a filter across the entire image creates the possibility of detecting a specific feature at any location in the image (translation invariance). To ensure that the filter can fully process all regions of the input, including its edges, padding is often applied to the input data. Padding adds extra rows and columns (typically filled with zeros) around the border of the input, preventing the reduction of spatial dimensions after convolution. The output two-dimensional array obtained by applying a filter is called a feature map. The result of the convolution does not necessarily have the same dimensions as the input image due to:\n",
        "- Boundary effects, which can be addressed by using padding;\n",
        "- The application of a stride during the convolution.\n",
        "\n",
        "It is important to emphasize that the input to a CNN is always a tensor with the shape (image_height, image_width, number_of_channels). The number of channels refers to the color channels of the image, e.g., 1 for grayscale images, 3 for RGB images, etc. The output of each Conv2D and MaxPooling2D layer is a 3D tensor with the shape (height, width, filters). Convolution and max-pooling form the fundamental building blocks of a CNN.\n",
        "In its simplest form, a CNN consists of three parts:\n",
        "1. A chain of convolutional blocks (pairs of Conv2D and MaxPooling2D layers);\n",
        "2. A Flatten layer;\n",
        "3. A chain of output Dense layers.\n",
        "\n",
        "The size of the feature maps is halved after each MaxPooling2D layer. For instance, before the first MaxPooling2D layer, the feature map dimensions are 26×26, but the max-pooling operation reduces them to 13×13. This is precisely the role of max pooling: reducing the dimensions of feature maps, similar to convolution with strides.\n",
        "Max pooling involves extracting patches from the input feature map and forwarding the maximum value within each patch to the output (if the images have multiple channels, such as RGB, the operation is performed separately for\n",
        "each channel). This operation is typically performed with a window size of 2×2 and a stride of 2, while convolution is performed with a 3×3 kernel and a stride of 1 (i.e., without skipping any positions). An alternative to max pooling is average pooling (average taken instead of max). However, in practice, max pooling has proven to be more effective and easier to process on a computer due to more information retained by observing the maximum presence of a feature."
      ],
      "metadata": {
        "id": "6BxsrdxoR-c-"
      }
    },
    {
      "cell_type": "markdown",
      "source": [
        "### CNN as chain of Conv2D and MaxPooling2D layers"
      ],
      "metadata": {
        "id": "Xg2pU7l9U_eF"
      }
    },
    {
      "cell_type": "code",
      "execution_count": null,
      "metadata": {
        "id": "OZ0PL_rQ4z0u"
      },
      "outputs": [],
      "source": [
        "from keras import layers\n",
        "from keras import models\n",
        "from keras.datasets import mnist\n",
        "from keras.utils import to_categorical\n",
        "\n",
        "# Model: Sequential\n",
        "model = models.Sequential()\n",
        "# model.add(layers.Conv2D(32, (3, 3), activation='relu', input_shape=(28, 28, 1)))\n",
        "model.add(layers.Input(shape=(28, 28, 1)))  # Define the input shape here\n",
        "model.add(layers.Conv2D(32, (3, 3), activation='relu')) # 32 is the number of filters\n",
        "model.add(layers.MaxPooling2D((2, 2)))\n",
        "model.add(layers.Conv2D(64, (3, 3), activation='relu'))\n",
        "model.add(layers.MaxPooling2D((2, 2)))\n",
        "model.add(layers.Conv2D(64, (3, 3), activation='relu'))\n",
        "model.summary() # One item of the output will be: conv2d_8 (Conv2D) (None, 3, 3, 64)\n",
        "\n",
        "# The next step is to pass the current output tensor (with the shape (3, 3, 64)) to a fully connected classification\n",
        "# network, similar to those we encountered earlier (a chain of fully connected Dense layers)\n",
        "# Since these layers process vectors, which are one-dimensional, and our current network output is three-dimensional,\n",
        "# it is necessary to first convert the 3D data into 1D data. This is done by the Flatten() - 1D vector output\n",
        "model.add(layers.Flatten())\n",
        "model.add(layers.Dense(64, activation='relu'))\n",
        "model.add(layers.Dense(10, activation='softmax'))\n",
        "model.summary() # The output of the above summary is now: (None, 576)\n",
        "\n",
        "\n",
        "# Now, we train and evaluate the network\n",
        "(train_images, train_labels), (test_images, test_labels) = mnist.load_data()\n",
        "train_images = train_images.reshape((60000, 28, 28, 1))\n",
        "train_images = train_images.astype(\"float32\") / 255\n",
        "test_images = test_images.reshape((10000, 28, 28, 1))\n",
        "test_images = test_images.astype(\"float32\") / 255\n",
        "train_labels = to_categorical(train_labels)\n",
        "test_labels = to_categorical(test_labels)\n",
        "model.compile(optimizer=\"rmsprop\", loss=\"categorical_crossentropy\", metrics=[\"accuracy\"])\n",
        "model.fit(train_images, train_labels, epochs=5, batch_size=64)\n",
        "test_loss, test_acc = model.evaluate(test_images, test_labels)\n",
        "print(test_acc)"
      ]
    },
    {
      "cell_type": "markdown",
      "source": [
        "## Keras Conv2D Layer\n",
        "### Activation function\n",
        "An activation function determines how a neuron processes input and passes the output to the next layer, enabling the network to model complex patterns. The major types are: ReLU, Sigmoid, Softmax and Tanh.\n",
        "\n",
        "1. ReLU (Rectified Linear Unit): Outputs the input directly if it's positive; otherwise, it outputs 0. It helps in handling large networks by avoiding the \"vanishing gradient\" problem. Example: Input 5 → Output 5; Input -2 → Output 0.\n",
        "\n",
        "2. Sigmoid: Compresses input values into a range between 0 and 1. Often used when probabilities or binary outputs are needed. Example: Input 2 → Output ~0.88; Input -2 → Output ~0.12.\n",
        "\n",
        "3. Softmax: Converts inputs into probabilities that sum to 1, making it ideal for multi-class classification. Example: Input [2, 1, 0.5] → Output [0.59, 0.26, 0.15] (probabilities of each class).\n",
        "\n",
        "4. Tanh (Hyperbolic Tangent): Scales input values into a range between -1 and 1, providing balanced outputs for both positive and negative values. Example: Input 2 → Output ~0.96; Input -2 → Output ~-0.96."
      ],
      "metadata": {
        "id": "qFz51rnUVOTx"
      }
    },
    {
      "cell_type": "code",
      "source": [
        "from keras import layers\n",
        "from keras import models\n",
        "from keras.datasets import mnist\n",
        "from keras.utils import to_categorical\n",
        "import keras\n",
        "\n",
        "keras.layers.Conv2D(\n",
        "    filters=2, # Number of filters the convolutional layer will learn from. It determines the number of output feature maps. It is a required parameter.\n",
        "    kernel_size=2, # Dimensions of the kernel. This is a required parameter and must be an odd number.\n",
        "    strides=(1, 1), # Step size for the filter movement. Can be an integer or a tuple of two integers. Default is (1, 1).\n",
        "    padding=\"valid\", # Whether padding is applied. ’Valid’ means no padding. ’Same’ applies padding to preserve the spatial dimensions. Default is no padding.\n",
        "    data_format=None, # Specifies the data format (e.g., ’channels_last’ or ’channels_first’) for compatibility with TensorFlow. Typically left as the default.\n",
        "    dilation_rate=(1, 1), # Specifies the dilation rate for the convolution. Default value is 1. Dilated convolution introduces gaps within the filter.\n",
        "    activation=None, # The activation function to apply. If not specified, no activation function is used.\n",
        "    use_bias=True, # Determines whether a bias term is added to the output. Default is True.\n",
        "    kernel_initializer=\"glorot_uniform\", # How kernel weights are initialized. Common options: ’glorot_uniform’ (default), ’he_normal’, or custom initializers.\n",
        "    bias_initializer=\"zeros\", # Specifies the initializer for the bias. Default is ’zeros’.\n",
        "    kernel_regularizer=None, # Adds regularization (e.g., L1 or L2 penalties) to the kernel weights to prevent overfitting. Default is None.\n",
        "    bias_regularizer=None, # Adds regularization to the bias. Default is None.\n",
        "    activity_regularizer=None, #\n",
        "    kernel_constraint=None,\n",
        "    bias_constraint=None)"
      ],
      "metadata": {
        "colab": {
          "base_uri": "https://localhost:8080/"
        },
        "id": "WHtQr7N-VS63",
        "outputId": "aaa15ed9-272b-4f96-9542-af8201218c40"
      },
      "execution_count": 4,
      "outputs": [
        {
          "output_type": "execute_result",
          "data": {
            "text/plain": [
              "<Conv2D name=conv2d_3, built=False>"
            ]
          },
          "metadata": {},
          "execution_count": 4
        }
      ]
    },
    {
      "cell_type": "markdown",
      "source": [
        "## Keras MaxPooling2D Layer\n",
        "The max-pooling operation is supported in the Keras framework through the MaxPooling2D layer. This layer is specifically designed to reduce the spatial dimensions of feature maps while retaining their most important information. Max pooling works by dividing the input feature map into patches and outputting the maximum value from each patch, effectively downsampling the input. It is commonly used to reduce computational costs, control overfitting, and retain key spatial features."
      ],
      "metadata": {
        "id": "QbzrE6oTcUML"
      }
    },
    {
      "cell_type": "code",
      "source": [
        "from tensorflow.keras.layers import MaxPooling2D\n",
        "import tensorflow as tf\n",
        "\n",
        "tf.keras.layers.MaxPooling2D(\n",
        "    pool_size=(2, 2), # Specifies the size of the pooling window (e.g., (2, 2)). The default value is (2, 2).\n",
        "    strides=None, # Defines the step size for the pooling window. By default, it is equal to the pool_size.\n",
        "    padding=\"valid\", # Whether padding is applied. ’Valid’ means no padding. ’Same’ means the output has the same dimensions as the input. Default is ’valid’.\n",
        "    data_format=None # Specifies the data format, either ’channels_last’ (default) or ’channels_first’, for compatibility with TensorFlow.\n",
        ")"
      ],
      "metadata": {
        "id": "IIeGUflYc0_A"
      },
      "execution_count": null,
      "outputs": []
    },
    {
      "cell_type": "markdown",
      "source": [
        "# Practice Assignment"
      ],
      "metadata": {
        "id": "9hYWDKTees53"
      }
    },
    {
      "cell_type": "markdown",
      "source": [
        "### 1. Load CIFAR-10\n",
        "Load the CIFAR-10 dataset and print the shapes of the training and test data as well as their labels."
      ],
      "metadata": {
        "id": "_SEln4c0jEy-"
      }
    },
    {
      "cell_type": "code",
      "source": [
        "import matplotlib.pyplot as plt\n",
        "import numpy as np\n",
        "from keras.datasets import cifar10\n",
        "\n",
        "(trainX, trainy), (testX, testy) = cifar10.load_data() # load data\n",
        "print(\"Training data shape:\", trainX.shape)\n",
        "print(\"Training labels shape:\", trainy.shape)\n",
        "print(\"Test data shape:\", testX.shape)\n",
        "print(\"Test labels shape:\", testy.shape)"
      ],
      "metadata": {
        "colab": {
          "base_uri": "https://localhost:8080/"
        },
        "id": "_V9BZPjZe4QJ",
        "outputId": "7cc93a26-2db6-4c5b-88f6-ce9959ddaad7"
      },
      "execution_count": 12,
      "outputs": [
        {
          "output_type": "stream",
          "name": "stdout",
          "text": [
            "Downloading data from https://www.cs.toronto.edu/~kriz/cifar-10-python.tar.gz\n",
            "\u001b[1m170498071/170498071\u001b[0m \u001b[32m━━━━━━━━━━━━━━━━━━━━\u001b[0m\u001b[37m\u001b[0m \u001b[1m13s\u001b[0m 0us/step\n",
            "Training data shape: (50000, 32, 32, 3)\n",
            "Training labels shape: (50000, 1)\n",
            "Test data shape: (10000, 32, 32, 3)\n",
            "Test labels shape: (10000, 1)\n"
          ]
        }
      ]
    },
    {
      "cell_type": "markdown",
      "source": [
        "### 2. Plot\n",
        "Using Matplotlib (specifically, pyplot), plot the first 9 images from this dataset. What can you say about the images? Does this resolution correspond to the resolution of modern photographs? How might the resolution of an image affect the performance of machine learning algorithms and models during classification?"
      ],
      "metadata": {
        "id": "TAB6twxLiyMv"
      }
    },
    {
      "cell_type": "code",
      "source": [
        "# Plot the first 9 images\n",
        "fig, axes = plt.subplots(3, 3, figsize=(10, 10))\n",
        "\n",
        "for i, ax in enumerate(axes.flat):\n",
        "    ax.imshow(trainX[i])\n",
        "    ax.axis('off')  # Hide axis\n",
        "    ax.set_title(f\"Label: {trainy[i][0]}\")  # Display the label\n",
        "\n",
        "plt.show()"
      ],
      "metadata": {
        "id": "WkKenAyRi1-A"
      },
      "execution_count": null,
      "outputs": []
    },
    {
      "cell_type": "markdown",
      "source": [
        "1. What can you say about the images?<br>\n",
        "The images are low resolution (32x32 pixels), which is why they appear blurry and have visible pixels, leading to a less detailed representation.\n",
        "\n",
        "2. Does this resolution correspond to the resolution of modern photographs?<br>\n",
        "No, this resolution (32x32 pixels) is much lower than modern photographs, which typically have resolutions in the thousands of pixels (e.g., 1920x1080 or higher).\n",
        "\n",
        "3. How might the resolution of an image affect the performance of machine learning algorithms and models during classification?<br>\n",
        "Lower resolution can affect the performance of machine learning models by making it harder to identify fine details in the images, leading to less accurate classification. Higher-resolution images provide more information, allowing models to detect more complex patterns, but they also require more computational power."
      ],
      "metadata": {
        "id": "NrCq6VpzhvhS"
      }
    },
    {
      "cell_type": "markdown",
      "source": [
        "### 3. Preprocessing\n",
        "The labels should be converted into arrays of 10 elements (i.e., perform one-hot encoding), and the images (i.e., the data) should be converted to the float32 type and scaled to a range of 0 to 1. Since we know that the maximum value of any channel is 255, scaling can be achieved by simply dividing by 255.\n",
        "For the labels, use the to_categorical function, while for the training data,\n",
        "use astype to convert the data to a floating-point type, followed by division by 255 for the data scaling step."
      ],
      "metadata": {
        "id": "f7DY6cu7j_2I"
      }
    },
    {
      "cell_type": "code",
      "source": [
        "from keras.utils import to_categorical\n",
        "\n",
        "# One-hot encoding for labels\n",
        "trainy = to_categorical(trainy, 10)\n",
        "testy = to_categorical(testy, 10)\n",
        "\n",
        "# Convert images to float32 and scale them\n",
        "trainX = trainX.astype('float32') / 255.0\n",
        "testX = testX.astype('float32') / 255.0\n",
        "\n"
      ],
      "metadata": {
        "id": "o2khdxtVkG4S"
      },
      "execution_count": 13,
      "outputs": []
    },
    {
      "cell_type": "markdown",
      "source": [
        "### Define Model\n",
        "The next step is defining the model. A helper function is usually created that returns the complete model. This approach is used because it is often necessary to modify the model architecture and experiment with different layers.\n",
        "Define a helper function for creating the model. For now, the function will build a simple CNN (also referred to as a baseline model). The model should include the following layers:\n",
        "1. Conv2D layer with 32 filters, dimensions 3×3, with padding enabled;\n",
        "2. Conv2D layer with 32 filters, dimensions 3×3, with padding enabled;\n",
        "3. MaxPooling2D layer with dimensions 2×2;\n",
        "4. Conv2D layer with 64 filters, dimensions 3×3, with padding enabled;\n",
        "5. Conv2D layer with 64 filters, dimensions 3×3, with padding enabled;\n",
        "6. MaxPooling2D layer with dimensions 2×2;\n",
        "7. Flatten layer;\n",
        "8. Dense layer with 128 neurons, using the relu activation function;\n",
        "9. Output Dense layer with 10 neurons and the softmax activation function."
      ],
      "metadata": {
        "id": "jy4wFLobtV4f"
      }
    },
    {
      "cell_type": "code",
      "source": [
        "from keras.models import Sequential\n",
        "from keras.layers import Conv2D, MaxPooling2D, Flatten, Dense\n",
        "from keras.layers import Input\n",
        "\n",
        "# The reason why steps 1 and 2 are the same is to enable the model to learn more complex features by stacking multiple convolutional layers.\n",
        "# Each convolutional layer extracts features from the input, and stacking them allows the network to learn more hierarchical representations\n",
        "# of the data. The first layer learns low-level features (like edges or textures), and the second layer can learn more complex patterns or\n",
        "# combinations of those features. This is a common strategy in CNNs to capture different levels of abstraction.\n",
        "\n",
        "model = Sequential()\n",
        "\n",
        "# Input layer\n",
        "model.add(Input(shape=(32, 32, 3)))\n",
        "\n",
        "# First Conv2D Layer\n",
        "model.add(Conv2D(32, (3, 3), padding='same', activation='relu'))\n",
        "\n",
        "# Second Conv2D Layer\n",
        "model.add(Conv2D(32, (3, 3), padding='same', activation='relu'))\n",
        "\n",
        "# MaxPooling2D Layer\n",
        "model.add(MaxPooling2D((2, 2)))\n",
        "\n",
        "# Third Conv2D Layer\n",
        "model.add(Conv2D(64, (3, 3), padding='same', activation='relu'))\n",
        "\n",
        "# Fourth Conv2D Layer\n",
        "model.add(Conv2D(64, (3, 3), padding='same', activation='relu'))\n",
        "\n",
        "# MaxPooling2D Layer\n",
        "model.add(MaxPooling2D((2, 2)))\n",
        "\n",
        "# Flatten Layer\n",
        "model.add(Flatten())\n",
        "\n",
        "# Dense Layer with 128 neurons\n",
        "model.add(Dense(128, activation='relu'))\n",
        "\n",
        "# Output Layer with 10 neurons\n",
        "model.add(Dense(10, activation='softmax'))\n",
        "\n",
        "\n"
      ],
      "metadata": {
        "id": "Ebz06pCxtYSS"
      },
      "execution_count": 14,
      "outputs": []
    },
    {
      "cell_type": "markdown",
      "source": [
        "### Compiling and training\n",
        "Add the necessary code to compile the model within the define_model function. The optimizer should be gradient descent with a learning rate of 0.001 and momentum of 0.9, as follows: opt = SGD(lr=0.001, momentum=0.9)\n",
        "The compilation should be performed such that the loss function is categorical_crossentropy, and the metric is accuracy. Add the line for compiling the model at the end of the helper function.\n",
        "Train the model. The parameters that will be used for training are as\n",
        "follows:\n",
        "1. epochs=15\n",
        "2. batch_size=64\n",
        "3. validation_data=(testX, testY) (normally, a separate validation set would be created, but in this example, we will use the test set for validation)\n",
        "\n",
        "1. What accuracy was achieved? 1.0 (loss: 0.00024)\n",
        "2. Is this result satisfactory? yes"
      ],
      "metadata": {
        "id": "vL_Ehgr-wb3Y"
      }
    },
    {
      "cell_type": "code",
      "source": [
        "from keras.optimizers import SGD\n",
        "\n",
        "# Compile the model with SGD optimizer\n",
        "opt = SGD(learning_rate=0.001, momentum=0.9)\n",
        "model.compile(optimizer=opt, loss='categorical_crossentropy', metrics=['accuracy'])\n",
        "\n",
        "# Train the model and capture history\n",
        "history = model.fit(trainX, trainy, epochs=15, batch_size=64, validation_data=(testX, testy), verbose=0)\n",
        "\n",
        "# Print loss and accuracy for each epoch\n",
        "for epoch in range(15):\n",
        "    print(f\"Epoch {epoch + 1}: Loss = {history.history['loss'][epoch]}, Accuracy = {history.history['accuracy'][epoch]}\")\n",
        "\n",
        "# Print final loss and accuracy\n",
        "print(f\"\\nFinal Loss: {history.history['loss'][-1]}, Final Accuracy: {history.history['accuracy'][-1]}\")\n",
        "\n"
      ],
      "metadata": {
        "colab": {
          "base_uri": "https://localhost:8080/"
        },
        "id": "JisyylUdx3UE",
        "outputId": "b2864d67-1425-40e1-9373-5c974db94a6a"
      },
      "execution_count": 21,
      "outputs": [
        {
          "output_type": "stream",
          "name": "stdout",
          "text": [
            "Epoch 1: Loss = 0.006642505992203951, Accuracy = 0.9988399744033813\n",
            "Epoch 2: Loss = 0.0017142487922683358, Accuracy = 0.9998400211334229\n",
            "Epoch 3: Loss = 0.0014779279008507729, Accuracy = 0.999779999256134\n",
            "Epoch 4: Loss = 0.0009720565867610276, Accuracy = 0.9998599886894226\n",
            "Epoch 5: Loss = 0.0006383308209478855, Accuracy = 0.9999799728393555\n",
            "Epoch 6: Loss = 0.0005303894286043942, Accuracy = 0.9999799728393555\n",
            "Epoch 7: Loss = 0.00043291697511449456, Accuracy = 1.0\n",
            "Epoch 8: Loss = 0.00039850559551268816, Accuracy = 1.0\n",
            "Epoch 9: Loss = 0.0003528242523316294, Accuracy = 1.0\n",
            "Epoch 10: Loss = 0.0003260774537920952, Accuracy = 1.0\n",
            "Epoch 11: Loss = 0.0003039306611754, Accuracy = 1.0\n",
            "Epoch 12: Loss = 0.0002857194631360471, Accuracy = 1.0\n",
            "Epoch 13: Loss = 0.00026967222220264375, Accuracy = 1.0\n",
            "Epoch 14: Loss = 0.0002558609994594008, Accuracy = 1.0\n",
            "Epoch 15: Loss = 0.00024341871903743595, Accuracy = 1.0\n",
            "\n",
            "Final Loss: 0.00024341871903743595, Final Accuracy: 1.0\n"
          ]
        }
      ]
    },
    {
      "cell_type": "markdown",
      "source": [
        "### Accuracy vs loss plot\n",
        "Plot the behavior of accuracy and loss over the epochs. What can you conclude from the plots?<br>\n",
        "The model is successfully learning the patterns in the data, and there is minimal error in its predictions. However, it may also indicate that the model is overfitting if it performs significantly better on the training data than on unseen data."
      ],
      "metadata": {
        "id": "Ryv2oU0p4Qod"
      }
    },
    {
      "cell_type": "code",
      "source": [
        "import matplotlib.pyplot as plt\n",
        "\n",
        "\n",
        "# Plot accuracy and loss\n",
        "plt.figure(figsize=(8, 6))\n",
        "plt.plot(history.history['accuracy'], label='Training Accuracy')\n",
        "plt.plot(history.history['loss'], label='Training Loss')\n",
        "plt.title('Training Accuracy and Loss Over Epochs')\n",
        "plt.xlabel('Epochs')\n",
        "plt.ylabel('Value')\n",
        "plt.legend()\n",
        "plt.show()\n"
      ],
      "metadata": {
        "id": "KhGh_K3B4VW_"
      },
      "execution_count": null,
      "outputs": []
    },
    {
      "cell_type": "markdown",
      "source": [
        "### Prevent overfitting\n",
        "In the previous model, there is a fully connected layer with 128 neurons, which essentially takes all features and uses them for training. To prevent overfitting, it is possibleto randomly disable some neurons during training via Dropout layer. The Dropout layer increases the robustness of the network and prevents overfitting by ensuring that neurons do not\n",
        "always learn during training but instead have a chance to be \"dropped\" (hence the name of the layer). This helps the model avoid learning the training features too perfectly, thereby improving its generalization to unseen data. Add a Dropout layer to the model, with a probability of 0.5, before the first Dense layer. Repeat the training, evaluation, and plotting of loss and accuracy.\n",
        "1. Are the results better? No. Worse.\n",
        "2. Does overfitting still occur?\n",
        "Since the accuracy is no longer reaching 1.0 and the loss is still significant, it is likely that overfitting has been reduced. The model is now more generalizable, and it is not fitting the training data too perfectly, which is a sign that overfitting is less of an issue."
      ],
      "metadata": {
        "id": "P6_YGgtI6ZEy"
      }
    },
    {
      "cell_type": "code",
      "source": [
        "from keras.layers import Dropout\n",
        "\n",
        "\n",
        "model = Sequential()\n",
        "\n",
        "# Adding convolutional layers\n",
        "model.add(Input(shape=(32, 32, 3)))\n",
        "model.add(Conv2D(32, (3, 3), padding='same', activation='relu'))\n",
        "model.add(Conv2D(32, (3, 3), padding='same', activation='relu'))\n",
        "model.add(MaxPooling2D(pool_size=(2, 2)))\n",
        "model.add(Conv2D(64, (3, 3), padding='same', activation='relu'))\n",
        "model.add(Conv2D(64, (3, 3), padding='same', activation='relu'))\n",
        "model.add(MaxPooling2D(pool_size=(2, 2)))\n",
        "\n",
        "# Add Dropout layer before the Dense layer\n",
        "model.add(Dropout(0.5))\n",
        "\n",
        "# Flatten and Dense layers\n",
        "model.add(Flatten())\n",
        "model.add(Dense(128, activation='relu'))\n",
        "model.add(Dense(10, activation='softmax'))\n",
        "\n",
        "# Compile the model with SGD optimizer\n",
        "opt = SGD(learning_rate=0.001, momentum=0.9)\n",
        "model.compile(optimizer=opt, loss='categorical_crossentropy', metrics=['accuracy'])\n",
        "\n",
        "# Train the model\n",
        "history = model.fit(trainX, trainy, epochs=15, batch_size=64, validation_data=(testX, testy), verbose=0)\n",
        "\n",
        "# Print loss vs accuracy\n",
        "for epoch in range(15):\n",
        "    print(f\"Epoch {epoch + 1}: Accuracy = {history.history['accuracy'][epoch]}, Loss = {history.history['loss'][epoch]}\")\n",
        "\n",
        "# Print final loss and accuracy\n",
        "print(f\"\\nFinal Loss: {history.history['loss'][-1]}, Final Accuracy: {history.history['accuracy'][-1]}\")\n",
        "\n",
        "# Plot accuracy and loss\n",
        "plt.figure(figsize=(8, 6))\n",
        "plt.plot(history.history['accuracy'], label='Training Accuracy')\n",
        "plt.plot(history.history['loss'], label='Training Loss')\n",
        "plt.title('Training Accuracy and Loss Over Epochs')\n",
        "plt.xlabel('Epochs')\n",
        "plt.ylabel('Value')\n",
        "plt.legend()\n",
        "plt.show()\n"
      ],
      "metadata": {
        "id": "b6WedsKj7cbb"
      },
      "execution_count": null,
      "outputs": []
    },
    {
      "cell_type": "markdown",
      "source": [
        "### Final version of the model\n",
        "Now we will create the final version of our model. Perform the following modifications to the existing model:\n",
        "1. Before the Flatten layer, add another block of two Conv2D layers and one MaxPooling2D layer, following the pattern of the existing blocks. Set the number of filters for the two Conv2D layers to 128;\n",
        "2. Change the existing Dropout probability to 0.2 and move it after the first Dense layer;\n",
        "3. After each MaxPooling2D layer, add a Dropout layer with a probability of 0.2.\n",
        "4. This model should be trained for 30 epochs.\n",
        "\n",
        "1. What accuracy is achieved?<br>\n",
        "The final accuracy achieved is 0.6898 (or approximately 69%).\n",
        "\n",
        "2. Does overfitting occur?<br>\n",
        "No. The model's accuracy improves consistently throughout the epochs, and there is no noticeable divergence between training and validation performance. Additionally, the accuracy doesn't plateau too early, which further suggests that the model is still generalizing well."
      ],
      "metadata": {
        "id": "lWvPDjQH_vmC"
      }
    },
    {
      "cell_type": "code",
      "source": [
        "from keras.models import Sequential\n",
        "from keras.layers import Conv2D, MaxPooling2D, Flatten, Dense, Dropout\n",
        "from keras.optimizers import SGD\n",
        "\n",
        "model = Sequential()\n",
        "\n",
        "# First Conv2D Block\n",
        "model.add(Input(shape=(32, 32, 3)))\n",
        "model.add(Conv2D(32, (3, 3), padding='same', activation='relu'))\n",
        "model.add(Conv2D(32, (3, 3), padding='same', activation='relu'))\n",
        "model.add(MaxPooling2D((3, 3)))\n",
        "model.add(Dropout(0.2))  # Dropout after first MaxPooling2D\n",
        "\n",
        "# Second Conv2D Block\n",
        "model.add(Conv2D(64, (3, 3), padding='same', activation='relu'))\n",
        "model.add(Conv2D(64, (3, 3), padding='same', activation='relu'))\n",
        "model.add(MaxPooling2D((3, 3)))\n",
        "model.add(Dropout(0.2))  # Dropout after second MaxPooling2D\n",
        "\n",
        "# Third Conv2D Block (newly added)\n",
        "model.add(Conv2D(128, (3, 3), padding='same', activation='relu'))\n",
        "model.add(Conv2D(128, (3, 3), padding='same', activation='relu'))\n",
        "model.add(MaxPooling2D((3, 3)))\n",
        "model.add(Dropout(0.2))  # Dropout after third MaxPooling2D\n",
        "\n",
        "# Flatten Layer\n",
        "model.add(Flatten())\n",
        "\n",
        "# Dense Layer\n",
        "model.add(Dense(128, activation='relu'))\n",
        "\n",
        "# Dropout after Dense layer\n",
        "model.add(Dropout(0.2))  # Dropout after first Dense layer\n",
        "\n",
        "# Output Layer\n",
        "model.add(Dense(10, activation='softmax'))\n",
        "\n",
        "# Compile the model\n",
        "opt = SGD(learning_rate=0.001, momentum=0.9)\n",
        "model.compile(optimizer=opt, loss='categorical_crossentropy', metrics=['accuracy'])\n",
        "\n",
        "# Train the model\n",
        "history = model.fit(trainX, trainy, epochs=30, batch_size=64, validation_data=(testX, testy), verbose=0)\n",
        "\n",
        "# Print accuracy vs loss\n",
        "for epoch in range(15):\n",
        "    print(f\"Epoch {epoch + 1}: Accuracy = {history.history['accuracy'][epoch]}, Loss = {history.history['loss'][epoch]}\")\n",
        "\n",
        "# Print final loss and accuracy\n",
        "print(f\"\\nFinal Loss: {history.history['loss'][-1]}, Final Accuracy: {history.history['accuracy'][-1]}\")\n",
        "\n",
        "# Plot accuracy and loss\n",
        "plt.figure(figsize=(8, 6))\n",
        "plt.plot(history.history['accuracy'], label='Training Accuracy')\n",
        "plt.plot(history.history['loss'], label='Training Loss')\n",
        "plt.title('Training Accuracy and Loss Over Epochs')\n",
        "plt.xlabel('Epochs')\n",
        "plt.ylabel('Value')\n",
        "plt.legend()\n",
        "plt.show()\n",
        "\n"
      ],
      "metadata": {
        "colab": {
          "base_uri": "https://localhost:8080/",
          "height": 868
        },
        "id": "ICisbdkx_0WE",
        "outputId": "55424bc4-9781-48b7-877b-5d952d33edb1"
      },
      "execution_count": 29,
      "outputs": [
        {
          "output_type": "stream",
          "name": "stdout",
          "text": [
            "Epoch 1: Accuracy = 0.11620000004768372, Loss = 2.3002102375030518\n",
            "Epoch 2: Accuracy = 0.17015999555587769, Loss = 2.217500686645508\n",
            "Epoch 3: Accuracy = 0.21741999685764313, Loss = 2.065056800842285\n",
            "Epoch 4: Accuracy = 0.24277999997138977, Loss = 1.9835296869277954\n",
            "Epoch 5: Accuracy = 0.28345999121665955, Loss = 1.86732816696167\n",
            "Epoch 6: Accuracy = 0.33032000064849854, Loss = 1.768776297569275\n",
            "Epoch 7: Accuracy = 0.3661400079727173, Loss = 1.6860361099243164\n",
            "Epoch 8: Accuracy = 0.39820000529289246, Loss = 1.616855263710022\n",
            "Epoch 9: Accuracy = 0.42372000217437744, Loss = 1.5475980043411255\n",
            "Epoch 10: Accuracy = 0.4469200074672699, Loss = 1.4949259757995605\n",
            "Epoch 11: Accuracy = 0.4711799919605255, Loss = 1.4452391862869263\n",
            "Epoch 12: Accuracy = 0.4885599911212921, Loss = 1.404173493385315\n",
            "Epoch 13: Accuracy = 0.5090399980545044, Loss = 1.3527129888534546\n",
            "Epoch 14: Accuracy = 0.5225800275802612, Loss = 1.3209840059280396\n",
            "Epoch 15: Accuracy = 0.5392400026321411, Loss = 1.2766108512878418\n",
            "\n",
            "Final Loss: 0.8876156806945801, Final Accuracy: 0.6898000240325928\n"
          ]
        },
        {
          "output_type": "display_data",
          "data": {
            "text/plain": [
              "<Figure size 800x600 with 1 Axes>"
            ],
            "image/png": "[encoded data removed]"
          },
          "metadata": {}
        }
      ]
    }
  ]
}