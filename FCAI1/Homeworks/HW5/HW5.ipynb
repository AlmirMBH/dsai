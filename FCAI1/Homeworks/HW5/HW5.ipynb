{
  "nbformat": 4,
  "nbformat_minor": 0,
  "metadata": {
    "colab": {
      "provenance": []
    },
    "kernelspec": {
      "name": "python3",
      "display_name": "Python 3"
    },
    "language_info": {
      "name": "python"
    }
  },
  "cells": [
    {
      "cell_type": "markdown",
      "source": [
        "**Instructions:**\n",
        "\n",
        "Tasks in this homework are based on what is covered in laboratory exercises 9 and 10.\n",
        "\n",
        "When you finish, download and upload the notebook file in .ipynb format to c3 homework 5 assignment section.\n",
        "\n",
        "IMPORTANT NOTE: All extra files needed for finishing this homework will be provided on c3 platform."
      ],
      "metadata": {
        "id": "wzzY0aZuQ0eB"
      }
    },
    {
      "cell_type": "markdown",
      "source": [
        "# **Course: Fundamental Concepts of AI**\n",
        "# **Homework 5**\n",
        "\n",
        "**Student name and surname:**\n",
        "Almir Mustafic\n",
        "**Student index:**\n",
        "20114\n",
        "**Date:**\n",
        "February 6, 2025\n"
      ],
      "metadata": {
        "id": "MQtLIqo7RhZT"
      }
    },
    {
      "cell_type": "markdown",
      "source": [
        "\n",
        "#Assignment 1: Binary Classification: Spam Filter (3 points)\n",
        "In this task, we will work on binary classification but will focus on Natural Language Processing (NLP) techniques such as tokenization and vectorization. The problem involves classifying messages as either spam or ham. Spam messages are unwanted messages, often automated and sent to a large number of users for advertising, fraud, or other malicious purposes. Ham messages, on the other hand, are useful messages the user expects and wants to receive. The dataset used contains 2100 messages labeled as either Spam or Ham.\n",
        "\n",
        "---\n",
        "\n",
        "## **1. Dataset Preparation (1,5 points)**\n",
        "\n",
        "1. **Load the Dataset**  \n",
        "   - Load the dataset `SpamDetectionData.txt` provided in with your homework.\n",
        "   -Display the first three rows of the dataset to understand its format. What are the columns in this dataset?\n",
        "\n",
        "  \n",
        "\n",
        "2. **Data Cleaning**  \n",
        "   - Extract X (messages) and y (labels) from the dataset.\n",
        "   - Remove HTML tags ` <p>` and `</p> `from the messages since they appear in each one.\n",
        "   - Count the number of characters in the first and second message after cleaning.\n",
        "\n",
        "3. **Split Dataset**  \n",
        "   - Split the dataset into training and test sets, with 10% of the data allocated to the test set.  \n",
        "\n",
        "4. **Tokenization**  \n",
        "   - Tokenize the text using the Tokenizer object.\n",
        "   - Generate the vocabulary based on the training data.\n",
        "   - Convert all messages (both training and test sets) into sequences of integers using the generated vocabulary.\n",
        "   - Identify the three most frequent words in the text.\n",
        "   - Display the first message in the training set and its corresponding sequence of integers.\n",
        "\n",
        "   5. **Vectorization**  \n",
        "  - Define two functions:\n",
        "  \n",
        "    `vectorize_sequences(sequences, dimension)`: Vectorizes input sequences to a specified length (dimension).\n",
        "    `vectorize_labels(labels)`: Vectorizes labels, assigning 1 to spam and 0 to ham.\n",
        "\n",
        "  - Use these functions to vectorize the data from step 3, with input sequences padded to a length of 4000.\n",
        "\n",
        "---\n",
        "\n",
        "## **2. Build a Model (0,5 points)**\n",
        "\n",
        "1. **Define Keras Model**  \n",
        "   - Create a sequential Keras model that accepts input of shape (4000,).\n",
        "   - The first two hidden layers should be Dense with 8 neurons and ReLU activation functions.\n",
        "   - The output layer should have one neuron with a sigmoid activation function.\n",
        "\n",
        "2. **Compile the Model**  \n",
        "   - Use:\n",
        "     - `binary_crossentropy` as the loss function.\n",
        "     - `rmsprop` as the optimizer.\n",
        "     - `accuracy` as the evaluation metric.\n",
        "\n",
        "---\n",
        "\n",
        "## **3. Train the Model (0.5 points)**\n",
        "\n",
        "\n",
        "- Train the model for 5 epochs with a batch size of 128.\n",
        "- Use 30% of the training set for validation.\n",
        "- Record and display the accuracy and loss values. Plot these values graphically.\n",
        "\n",
        "---\n",
        "\n",
        "## **4. Evaluate the Model (0,5 points)**\n",
        "\n",
        "1. **Evaluate on the Test Set**  \n",
        "   - Report the accuracy on the test set.  \n",
        "\n",
        "\n",
        "\n",
        "\n",
        "## **Deliverables**\n",
        "\n",
        "Submit a Colab notebook containing all steps from dataset preparation to evaluation, meaning:\n",
        "1. **Code**\n",
        "\n",
        "2. **Results Summary**  \n",
        "   - A brief summary of your findings, including the final test accuracy and insights from the confusion matrix.\n",
        "\n"
      ],
      "metadata": {
        "id": "dZk_wgfFfarq"
      }
    },
    {
      "cell_type": "markdown",
      "source": [
        "\n",
        "#Assignment 2: Multiclass Classification: Stack Overflow Question Classification (3 points)\n",
        "\n",
        "n this task, we will work on multiclass classification using Natural Language Processing (NLP) techniques such as tokenization and vectorization. The problem involves classifying questions from the Stack Overflow platform into different programming languages based on their content. The dataset contains questions from several programming languages.\n",
        "\n",
        "---\n",
        "\n",
        "## **1. Dataset Preparation (1,5 points)**\n",
        "\n",
        "1. **Load the Dataset**  \n",
        "   - Load the dataset `stackoverflow.csv` provided with your homework.\n",
        "   -Display the last three rows of the dataset.\n",
        "\n",
        "  \n",
        "\n",
        "2. **Data Cleaning**  \n",
        "   - Extract X (questions) and y (labels) from the dataset.\n",
        "   - Determine the number of unique labels (programming languages) in the dataset.\n",
        "   - List all programming languages present in the dataset.\n",
        "\n",
        "3. **One-Hot Encoding**  \n",
        "   - Map text labels to integers using the `LabelEncoder object` from `sklearn.preprocessing`.\n",
        "   - Perform one-hot encoding on the integer labels using the `to_categorical` function `from keras.utils`.  \n",
        "   - Display the resulting one-hot encoded labels.\n",
        "\n",
        "  4. **Split Dataset**  \n",
        "   - Split the dataset into training and test sets, with 10% of the data allocated to the test set.\n",
        "\n",
        "5. **Tokenization and Vectorization**  \n",
        "   - Tokenize the text questions using the `Tokenizer object`.\n",
        "   - Limit the tokenizer to consider only the 500 most frequent words (use the corresponding parameter in Tokenizer).\n",
        "   - Define the parameter dimensions to match the vocabulary size..\n",
        "   - Convert the tokenized sequences into vectors of fixed length suitable for the model.\n",
        "\n",
        "\n",
        "\n",
        "---\n",
        "\n",
        "## **2. Build a Model (0,5 points)**\n",
        "\n",
        "1. **Define Keras Model**  \n",
        "   - Create a sequential Keras model with the following layers:\n",
        "    A `Dense layer` with 32 neurons and ReLU activation.\n",
        "    A `Dense layer` with 8 neurons and ReLU activation.\n",
        "    An output `Dense layer` with the number of neurons equal to the number of classes, and softmax activation.\n",
        "\n",
        "2. **Compile the Model**  \n",
        "   - Use:\n",
        "     - `categorical_crossentropy` as the loss function.\n",
        "     - `adam` as the optimizer.\n",
        "     - `accuracy` as the evaluation metric.\n",
        "\n",
        "---\n",
        "\n",
        "## **3. Train the Model (0,5 points)**\n",
        "\n",
        "\n",
        "- Train the model for 8 epochs with a batch size of 8.\n",
        "- Use 25% of the training set for validation.\n",
        "- Record and display the training and validation accuracy and loss. Plot these values graphically.\n",
        "\n",
        "---\n",
        "\n",
        "## **4. Evaluate the Model (0,5 points)**\n",
        "\n",
        "1. **Evaluate on the Test Set**  \n",
        "   - Report the accuracy on the test set.  \n",
        "\n",
        "\n",
        "\n",
        "\n",
        "## **Deliverables**\n",
        "\n",
        "Submit a Colab notebook containing all steps from dataset preparation to evaluation, meaning:\n",
        "1. **Code**\n",
        "\n",
        "2. **Results Summary**  \n",
        "   - A brief summary of your findings, including the final test accuracy and insights from the confusion matrix.\n",
        "\n",
        "\n",
        "\n"
      ],
      "metadata": {
        "id": "mQMeE452IM83"
      }
    },
    {
      "cell_type": "markdown",
      "source": [
        "### Task 1"
      ],
      "metadata": {
        "id": "mXQ1R7ZzWosR"
      }
    },
    {
      "cell_type": "code",
      "source": [
        "import os\n",
        "import re\n",
        "import numpy as np\n",
        "import pandas as pd\n",
        "import seaborn as sns\n",
        "import matplotlib.pyplot as plt\n",
        "from keras.layers import Dense\n",
        "from keras.models import Sequential\n",
        "from sklearn.metrics import confusion_matrix\n",
        "from sklearn.model_selection import train_test_split\n",
        "from tensorflow.keras.preprocessing.text import Tokenizer\n",
        "from tensorflow.keras.preprocessing.sequence import pad_sequences\n",
        "\n",
        "\n",
        "from google.colab import drive\n",
        "drive.mount('/content/drive')\n",
        "# List the files in the folder\n",
        "# folder_path = \"/content/drive/MyDrive/Colab Notebooks/HW5/\"\n",
        "# files = os.listdir(folder_path)\n",
        "# print(files)\n",
        "\n",
        "\n",
        "# LOAD THE DATASET\n",
        "#===============================================================================\n",
        "# Load and display the first 3 rows of the dataset\n",
        "dataset_path = \"/content/drive/MyDrive/Colab Notebooks/HW5/SpamDetectionData.txt\"\n",
        "# df = pd.read_csv(dataset_path, sep=\"\\t\", header=1, names=[\"Message\", \"Label\"])\n",
        "# df = pd.read_csv(dataset_path, sep=\",\", header=1, names=[\"Label\", \"Message\"])\n",
        "df = pd.read_csv(dataset_path, sep=\",\", header=0)\n",
        "print(df.head(3))\n",
        "\n",
        "\n",
        "# DATA CLEANING\n",
        "#===============================================================================\n",
        "# Extract X (messages) and y (labels) from the dataset.\n",
        "X = df['Message']\n",
        "y = df['Label']\n",
        "\n",
        "# Remove HTML tags <p> and </p>from the messages since they appear in each one.\n",
        "def remove_html_tags(text):\n",
        "    clean_text = re.sub(r'<p.*?>|</p>', '', text)  # Remove <p> and </p>\n",
        "    return clean_text\n",
        "\n",
        "X_cleaned = X.apply(remove_html_tags)\n",
        "\n",
        "# Count the number of characters in the first and second message after cleaning.\n",
        "first_message_len = len(X_cleaned.iloc[0])\n",
        "second_message_len = len(X_cleaned.iloc[1])\n",
        "\n",
        "print(\"\\nCharacter count in the first cleaned message:\", first_message_len)\n",
        "print(\"Character count in the second cleaned message:\", second_message_len)\n",
        "\n",
        "\n",
        "# SPLIT DATASET\n",
        "#===============================================================================\n",
        "# Split the dataset into training and test sets (90% training, 10% test)\n",
        "X_train, X_test, y_train, y_test = train_test_split(X, y, test_size=0.1, random_state=42)\n",
        "\n",
        "\n",
        "# TOKENIZATION\n",
        "#===============================================================================\n",
        "# Tokenize the text using the Tokenizer object.\n",
        "tokenizer = Tokenizer()\n",
        "# Generate the vocabulary based on the training data.\n",
        "tokenizer.fit_on_texts(X_train)\n",
        "\n",
        "# Convert all messages (both training and test sets) into sequences of integers using the generated vocabulary\n",
        "X_train_sequences = tokenizer.texts_to_sequences(X_train)\n",
        "X_test_sequences = tokenizer.texts_to_sequences(X_test)\n",
        "\n",
        "# Identify the three most frequent words in the text\n",
        "word_counts = tokenizer.word_counts\n",
        "sorted_word_counts = sorted(word_counts.items(), key=lambda x: x[1], reverse=True)\n",
        "most_frequent_words = sorted_word_counts[:3]\n",
        "\n",
        "# Display the three most frequent words\n",
        "print(\"\\nThree most frequent words:\")\n",
        "for word, count in most_frequent_words:\n",
        "    print(f\"Word: {word}, Count: {count}\")\n",
        "\n",
        "# Display the first message in the training set and its corresponding sequence integers\n",
        "first_message = X_train.iloc[0]\n",
        "first_message_sequence = X_train_sequences[0]\n",
        "\n",
        "print(\"\\nFirst message in training set:\")\n",
        "print(first_message)\n",
        "print(\"\\nCorresponding sequence of integers:\")\n",
        "print(first_message_sequence)\n",
        "\n",
        "\n",
        "# VECTORIZATION\n",
        "#===============================================================================\n",
        "# Vectorizes input sequences to a specified length (dimension)\n",
        "def vectorize_sequences(sequences, dimension):\n",
        "    return pad_sequences(sequences, maxlen=dimension)\n",
        "\n",
        "# Vectorizes labels, assigning 1 to spam and 0 to ham\n",
        "def vectorize_labels(labels):\n",
        "    return np.array([1 if label == 'spam' else 0 for label in labels])\n",
        "\n",
        "# Input sequences padded to a length of 4000\n",
        "X_train_vectorized = vectorize_sequences(X_train_sequences, dimension=4000)\n",
        "X_test_vectorized = vectorize_sequences(X_test_sequences, dimension=4000)\n",
        "\n",
        "# Vectorize the labels\n",
        "y_train_vectorized = vectorize_labels(y_train)\n",
        "y_test_vectorized = vectorize_labels(y_test)\n",
        "\n",
        "\n",
        "# BUILD A MODEL\n",
        "#===============================================================================\n",
        "def define_model(input_dim):\n",
        "    model = Sequential()\n",
        "    # The first two hidden layers should be Dense with 8 neurons and ReLU activation functions.\n",
        "    model.add(Dense(8, input_dim=input_dim, activation='relu'))\n",
        "    model.add(Dense(8, activation='relu'))\n",
        "    # The output layer should have one neuron with a sigmoid activation function.\n",
        "    model.add(Dense(1, activation='sigmoid'))\n",
        "\n",
        "    return model\n",
        "\n",
        "# Create a sequential Keras model that accepts input of shape (4000)\n",
        "model = define_model(4000)\n",
        "\n",
        "# Check the model architecture\n",
        "model.summary()\n",
        "\n",
        "\n",
        "# COMPILE THE MODEL\n",
        "#===============================================================================\n",
        "model.compile(optimizer='rmsprop', loss='binary_crossentropy', metrics=['accuracy'])\n",
        "\n",
        "\n",
        "# TRAIN THE MODEL\n",
        "#===============================================================================\n",
        "history = model.fit(X_train_vectorized, y_train_vectorized, epochs=5, batch_size=128, validation_split=0.3, verbose=1)\n",
        "\n",
        "# Record and display the accuracy and loss values.\n",
        "print(\"\\nTraining history:\")\n",
        "print(\"Training Accuracy:\", history.history['accuracy'])\n",
        "print(\"Validation Accuracy:\", history.history['val_accuracy'])\n",
        "print(\"Training Loss:\", history.history['loss'])\n",
        "print(\"Validation Loss:\", history.history['val_loss'])\n",
        "\n",
        "# Plot these values graphically.\n",
        "plt.figure(figsize=(8, 6))\n",
        "plt.plot(history.history['accuracy'], label='Train Accuracy')\n",
        "# plt.plot(history.history['val_accuracy'], label='Val Accuracy')\n",
        "\n",
        "plt.plot(history.history['loss'], label='Train Loss')\n",
        "# plt.plot(history.history['val_loss'], label='Val Loss')\n",
        "\n",
        "plt.title('Accuracy and Loss During Training')\n",
        "plt.xlabel('Epochs')\n",
        "plt.ylabel('Value')\n",
        "plt.legend()\n",
        "\n",
        "plt.show()\n",
        "\n",
        "# EVALUATE THE MODEL\n",
        "#===============================================================================\n",
        "test_loss, test_accuracy = model.evaluate(X_test_vectorized, y_test_vectorized, verbose=1)\n",
        "print(f\"\\nTest Loss: {test_loss}\")\n",
        "print(f\"Test Accuracy: {test_accuracy}\")\n",
        "\n",
        "# CONFUSION MATRIX\n",
        "y_pred = model.predict(X_test_vectorized).round().astype(\"int32\") # binary\n",
        "cm = confusion_matrix(y_test_vectorized, y_pred, labels=[0, 1])\n",
        "\n",
        "plt.figure(figsize=(6, 4))\n",
        "sns.heatmap(cm, annot=True, fmt='d', cmap='Blues', xticklabels=['Ham', 'Spam'], yticklabels=['Ham', 'Spam'])\n",
        "plt.xlabel('Predicted')\n",
        "plt.ylabel('Actual')\n",
        "plt.title('Confusion Matrix')\n",
        "plt.show()\n",
        "\n"
      ],
      "metadata": {
        "colab": {
          "base_uri": "https://localhost:8080/",
          "height": 1000
        },
        "id": "FX5wwuAE3HUq",
        "outputId": "82a10b64-744b-441b-be23-89c926222575"
      },
      "execution_count": 2,
      "outputs": [
        {
          "output_type": "stream",
          "name": "stdout",
          "text": [
            "Mounted at /content/drive\n",
            "  Label                                            Message\n",
            "0  Spam  <p>But could then once pomp to nor that glee g...\n",
            "1  Spam  <p>His honeyed and land vile are so and native...\n",
            "2  Spam  <p>Tear womans his was by had tis her eremites...\n",
            "\n",
            "Character count in the first cleaned message: 417\n",
            "Character count in the second cleaned message: 859\n",
            "\n",
            "Three most frequent words:\n",
            "Word: the, Count: 23042\n",
            "Word: and, Count: 19393\n",
            "Word: of, Count: 11189\n",
            "\n",
            "First message in training set:\n",
            "<p>Fluttered dreary a the of yore stock and curious we many wore the the radiant bust tapping sir this. The ghost distinctly and quoth angels the chamber broken or ghost sitting grave its this. The dreaming and art when adore and moment then and lord she lent i quoth adore tell mystery mefilled. Still nevermore the fiery above rare hath ever my and.</p><p>Lining each no peering mefilled token and one ghastly the. The seraphim the on the flutter there in to sad desolate gently many then my little. Name napping above said pondered from while.</p><p>Stood unseen came plume my horror there nevermore caught flitting again a still get or and thy muttered. Had to divining hath whether implore and human balm all it by guessing here have curtain such here. Explore my implore beating sitting. But nevermore tempter before sent my sought our for have. Till on grave censer this with into merely air entreating beguiling whispered prophet i. Flown he by out and nameless i this of is some was and be. Above from hopes of unhappy word beak raven nothing grim ghastly whom fearing a by front. Its the memories. Chamber soul i have tossed nevermore desolate what. Door with sitting. That some that i came hesitating all see utters turning that unbroken in gently muttered in i sat my. The lenore art whispered shutter here tell my many entrance the sorrowsorrow. Soul wrought till take terrors mystery thy chamber came stock parting so my turning and sent kind the.</p>\n",
            "\n",
            "Corresponding sequence of integers:\n",
            "[6, 335, 383, 4, 1, 3, 118, 253, 2, 662, 222, 108, 417, 1, 1, 132, 53, 66, 238, 13, 1, 488, 556, 2, 69, 82, 1, 19, 720, 18, 488, 115, 731, 87, 13, 1, 177, 2, 348, 152, 368, 2, 478, 33, 2, 585, 165, 535, 5, 69, 368, 199, 221, 439, 39, 31, 1, 324, 49, 210, 218, 81, 8, 2, 6, 6, 127, 95, 44, 751, 439, 186, 2, 41, 153, 1, 1, 628, 1, 20, 1, 643, 35, 12, 7, 70, 735, 223, 108, 33, 8, 200, 45, 206, 49, 42, 239, 15, 148, 6, 6, 183, 336, 120, 629, 8, 401, 35, 31, 163, 557, 278, 4, 39, 294, 18, 2, 32, 174, 26, 7, 273, 218, 156, 110, 2, 785, 586, 54, 34, 24, 767, 90, 84, 479, 178, 90, 224, 8, 110, 384, 115, 14, 31, 736, 50, 128, 8, 225, 717, 25, 84, 124, 20, 731, 587, 13, 30, 48, 259, 265, 141, 149, 196, 160, 5, 164, 11, 24, 146, 2, 718, 5, 13, 3, 22, 58, 16, 2, 57, 49, 15, 739, 3, 521, 67, 595, 29, 51, 214, 153, 68, 765, 4, 24, 349, 87, 1, 771, 19, 43, 5, 84, 756, 31, 735, 52, 17, 30, 115, 9, 58, 9, 5, 120, 337, 54, 678, 385, 450, 9, 407, 12, 223, 174, 12, 5, 98, 8, 1, 38, 348, 196, 644, 90, 199, 8, 108, 189, 1, 570, 43, 350, 124, 94, 369, 221, 32, 19, 120, 253, 135, 40, 8, 450, 2, 128, 663, 1, 6]\n"
          ]
        },
        {
          "output_type": "stream",
          "name": "stderr",
          "text": [
            "/usr/local/lib/python3.11/dist-packages/keras/src/layers/core/dense.py:87: UserWarning: Do not pass an `input_shape`/`input_dim` argument to a layer. When using Sequential models, prefer using an `Input(shape)` object as the first layer in the model instead.\n",
            "  super().__init__(activity_regularizer=activity_regularizer, **kwargs)\n"
          ]
        },
        {
          "output_type": "display_data",
          "data": {
            "text/plain": [
              "\u001b[1mModel: \"sequential\"\u001b[0m\n"
            ],
            "text/html": [
              "<pre style=\"white-space:pre;overflow-x:auto;line-height:normal;font-family:Menlo,'DejaVu Sans Mono',consolas,'Courier New',monospace\"><span style=\"font-weight: bold\">Model: \"sequential\"</span>\n",
              "</pre>\n"
            ]
          },
          "metadata": {}
        },
        {
          "output_type": "display_data",
          "data": {
            "text/plain": [
              "┏━━━━━━━━━━━━━━━━━━━━━━━━━━━━━━━━━━━━━━┳━━━━━━━━━━━━━━━━━━━━━━━━━━━━━┳━━━━━━━━━━━━━━━━━┓\n",
              "┃\u001b[1m \u001b[0m\u001b[1mLayer (type)                        \u001b[0m\u001b[1m \u001b[0m┃\u001b[1m \u001b[0m\u001b[1mOutput Shape               \u001b[0m\u001b[1m \u001b[0m┃\u001b[1m \u001b[0m\u001b[1m        Param #\u001b[0m\u001b[1m \u001b[0m┃\n",
              "┡━━━━━━━━━━━━━━━━━━━━━━━━━━━━━━━━━━━━━━╇━━━━━━━━━━━━━━━━━━━━━━━━━━━━━╇━━━━━━━━━━━━━━━━━┩\n",
              "│ dense (\u001b[38;5;33mDense\u001b[0m)                        │ (\u001b[38;5;45mNone\u001b[0m, \u001b[38;5;34m8\u001b[0m)                   │          \u001b[38;5;34m32,008\u001b[0m │\n",
              "├──────────────────────────────────────┼─────────────────────────────┼─────────────────┤\n",
              "│ dense_1 (\u001b[38;5;33mDense\u001b[0m)                      │ (\u001b[38;5;45mNone\u001b[0m, \u001b[38;5;34m8\u001b[0m)                   │              \u001b[38;5;34m72\u001b[0m │\n",
              "├──────────────────────────────────────┼─────────────────────────────┼─────────────────┤\n",
              "│ dense_2 (\u001b[38;5;33mDense\u001b[0m)                      │ (\u001b[38;5;45mNone\u001b[0m, \u001b[38;5;34m1\u001b[0m)                   │               \u001b[38;5;34m9\u001b[0m │\n",
              "└──────────────────────────────────────┴─────────────────────────────┴─────────────────┘\n"
            ],
            "text/html": [
              "<pre style=\"white-space:pre;overflow-x:auto;line-height:normal;font-family:Menlo,'DejaVu Sans Mono',consolas,'Courier New',monospace\">┏━━━━━━━━━━━━━━━━━━━━━━━━━━━━━━━━━━━━━━┳━━━━━━━━━━━━━━━━━━━━━━━━━━━━━┳━━━━━━━━━━━━━━━━━┓\n",
              "┃<span style=\"font-weight: bold\"> Layer (type)                         </span>┃<span style=\"font-weight: bold\"> Output Shape                </span>┃<span style=\"font-weight: bold\">         Param # </span>┃\n",
              "┡━━━━━━━━━━━━━━━━━━━━━━━━━━━━━━━━━━━━━━╇━━━━━━━━━━━━━━━━━━━━━━━━━━━━━╇━━━━━━━━━━━━━━━━━┩\n",
              "│ dense (<span style=\"color: #0087ff; text-decoration-color: #0087ff\">Dense</span>)                        │ (<span style=\"color: #00d7ff; text-decoration-color: #00d7ff\">None</span>, <span style=\"color: #00af00; text-decoration-color: #00af00\">8</span>)                   │          <span style=\"color: #00af00; text-decoration-color: #00af00\">32,008</span> │\n",
              "├──────────────────────────────────────┼─────────────────────────────┼─────────────────┤\n",
              "│ dense_1 (<span style=\"color: #0087ff; text-decoration-color: #0087ff\">Dense</span>)                      │ (<span style=\"color: #00d7ff; text-decoration-color: #00d7ff\">None</span>, <span style=\"color: #00af00; text-decoration-color: #00af00\">8</span>)                   │              <span style=\"color: #00af00; text-decoration-color: #00af00\">72</span> │\n",
              "├──────────────────────────────────────┼─────────────────────────────┼─────────────────┤\n",
              "│ dense_2 (<span style=\"color: #0087ff; text-decoration-color: #0087ff\">Dense</span>)                      │ (<span style=\"color: #00d7ff; text-decoration-color: #00d7ff\">None</span>, <span style=\"color: #00af00; text-decoration-color: #00af00\">1</span>)                   │               <span style=\"color: #00af00; text-decoration-color: #00af00\">9</span> │\n",
              "└──────────────────────────────────────┴─────────────────────────────┴─────────────────┘\n",
              "</pre>\n"
            ]
          },
          "metadata": {}
        },
        {
          "output_type": "display_data",
          "data": {
            "text/plain": [
              "\u001b[1m Total params: \u001b[0m\u001b[38;5;34m32,089\u001b[0m (125.35 KB)\n"
            ],
            "text/html": [
              "<pre style=\"white-space:pre;overflow-x:auto;line-height:normal;font-family:Menlo,'DejaVu Sans Mono',consolas,'Courier New',monospace\"><span style=\"font-weight: bold\"> Total params: </span><span style=\"color: #00af00; text-decoration-color: #00af00\">32,089</span> (125.35 KB)\n",
              "</pre>\n"
            ]
          },
          "metadata": {}
        },
        {
          "output_type": "display_data",
          "data": {
            "text/plain": [
              "\u001b[1m Trainable params: \u001b[0m\u001b[38;5;34m32,089\u001b[0m (125.35 KB)\n"
            ],
            "text/html": [
              "<pre style=\"white-space:pre;overflow-x:auto;line-height:normal;font-family:Menlo,'DejaVu Sans Mono',consolas,'Courier New',monospace\"><span style=\"font-weight: bold\"> Trainable params: </span><span style=\"color: #00af00; text-decoration-color: #00af00\">32,089</span> (125.35 KB)\n",
              "</pre>\n"
            ]
          },
          "metadata": {}
        },
        {
          "output_type": "display_data",
          "data": {
            "text/plain": [
              "\u001b[1m Non-trainable params: \u001b[0m\u001b[38;5;34m0\u001b[0m (0.00 B)\n"
            ],
            "text/html": [
              "<pre style=\"white-space:pre;overflow-x:auto;line-height:normal;font-family:Menlo,'DejaVu Sans Mono',consolas,'Courier New',monospace\"><span style=\"font-weight: bold\"> Non-trainable params: </span><span style=\"color: #00af00; text-decoration-color: #00af00\">0</span> (0.00 B)\n",
              "</pre>\n"
            ]
          },
          "metadata": {}
        },
        {
          "output_type": "stream",
          "name": "stdout",
          "text": [
            "Epoch 1/5\n",
            "\u001b[1m11/11\u001b[0m \u001b[32m━━━━━━━━━━━━━━━━━━━━\u001b[0m\u001b[37m\u001b[0m \u001b[1m2s\u001b[0m 55ms/step - accuracy: 0.8536 - loss: 6.0149 - val_accuracy: 0.9965 - val_loss: 0.0524\n",
            "Epoch 2/5\n",
            "\u001b[1m11/11\u001b[0m \u001b[32m━━━━━━━━━━━━━━━━━━━━\u001b[0m\u001b[37m\u001b[0m \u001b[1m1s\u001b[0m 16ms/step - accuracy: 1.0000 - loss: 1.0362e-05 - val_accuracy: 0.9965 - val_loss: 0.0521\n",
            "Epoch 3/5\n",
            "\u001b[1m11/11\u001b[0m \u001b[32m━━━━━━━━━━━━━━━━━━━━\u001b[0m\u001b[37m\u001b[0m \u001b[1m0s\u001b[0m 14ms/step - accuracy: 1.0000 - loss: 2.0918e-06 - val_accuracy: 0.9965 - val_loss: 0.0517\n",
            "Epoch 4/5\n",
            "\u001b[1m11/11\u001b[0m \u001b[32m━━━━━━━━━━━━━━━━━━━━\u001b[0m\u001b[37m\u001b[0m \u001b[1m0s\u001b[0m 18ms/step - accuracy: 1.0000 - loss: 1.2257e-06 - val_accuracy: 0.9965 - val_loss: 0.0514\n",
            "Epoch 5/5\n",
            "\u001b[1m11/11\u001b[0m \u001b[32m━━━━━━━━━━━━━━━━━━━━\u001b[0m\u001b[37m\u001b[0m \u001b[1m0s\u001b[0m 18ms/step - accuracy: 1.0000 - loss: 1.3340e-06 - val_accuracy: 0.9965 - val_loss: 0.0508\n",
            "\n",
            "Training history:\n",
            "Training Accuracy: [0.9455782175064087, 1.0, 1.0, 1.0, 1.0]\n",
            "Validation Accuracy: [0.9964726567268372, 0.9964726567268372, 0.9964726567268372, 0.9964726567268372, 0.9964726567268372]\n",
            "Training Loss: [2.2365481853485107, 1.1552486284927e-05, 7.6256073953118175e-06, 4.763206106872531e-06, 3.7965121464367257e-06]\n",
            "Validation Loss: [0.0523504801094532, 0.05210696533322334, 0.0517350435256958, 0.05138085037469864, 0.0508267916738987]\n"
          ]
        },
        {
          "output_type": "display_data",
          "data": {
            "text/plain": [
              "<Figure size 800x600 with 1 Axes>"
            ],
            "image/png": "[encoded data removed]"
          },
          "metadata": {}
        },
        {
          "output_type": "stream",
          "name": "stdout",
          "text": [
            "\u001b[1m7/7\u001b[0m \u001b[32m━━━━━━━━━━━━━━━━━━━━\u001b[0m\u001b[37m\u001b[0m \u001b[1m0s\u001b[0m 8ms/step - accuracy: 1.0000 - loss: 4.9792e-23 \n",
            "\n",
            "Test Loss: 3.4093407120399645e-23\n",
            "Test Accuracy: 1.0\n",
            "\u001b[1m7/7\u001b[0m \u001b[32m━━━━━━━━━━━━━━━━━━━━\u001b[0m\u001b[37m\u001b[0m \u001b[1m0s\u001b[0m 14ms/step\n"
          ]
        },
        {
          "output_type": "display_data",
          "data": {
            "text/plain": [
              "<Figure size 600x400 with 2 Axes>"
            ],
            "image/png": "[encoded data removed]"
          },
          "metadata": {}
        }
      ]
    },
    {
      "cell_type": "markdown",
      "source": [
        "### Summary of Task 1\n",
        "The Spam Detection dataset model demonstrateds stable and favorable performance. The character counts of the two cleaned messages were 417 and 859, respectively. The three most frequent words were:\n",
        "- \"the\" (count: 23,042),\n",
        "- \"and\" (count: 19,393),\n",
        "- \"of\" (count: 11,189).\n",
        "\n",
        "During training, the model showed an accuracy of 1.0, with training loss progressively decreasing to a near-zero value by the end of the 5th epoch. Validation accuracy was also high, maintaining the level of 1.0 throughout the process. The test accuracy demonstrated the same trend, with the accuracy of 1.0 and a low test loss of almost zero, indicating that the model is very effective at distinguishing spam messages."
      ],
      "metadata": {
        "id": "gaLHYXQCNRhK"
      }
    },
    {
      "cell_type": "markdown",
      "source": [
        "### Task 2"
      ],
      "metadata": {
        "id": "vuSdbq3UWwj9"
      }
    },
    {
      "cell_type": "code",
      "source": [
        "!pip install tensorflow\n",
        "import os\n",
        "import re\n",
        "import numpy as np\n",
        "import pandas as pd\n",
        "import seaborn as sns\n",
        "import matplotlib.pyplot as plt\n",
        "from keras.layers import Dense\n",
        "from keras.models import Sequential\n",
        "from keras.utils import to_categorical\n",
        "from sklearn.metrics import confusion_matrix\n",
        "from sklearn.preprocessing import LabelEncoder\n",
        "from sklearn.model_selection import train_test_split\n",
        "from tensorflow.keras.preprocessing.text import Tokenizer\n",
        "from tensorflow.keras.preprocessing.sequence import pad_sequences\n",
        "from tensorflow.keras.models import Sequential\n",
        "from tensorflow.keras.layers import Dense, Input\n",
        "\n",
        "\n",
        "# LOAD THE DATASET\n",
        "#===============================================================================\n",
        "# Load and display the first 3 rows of the dataset\n",
        "dataset_path = \"/content/drive/MyDrive/Colab Notebooks/HW5/stackoverflow.csv\"\n",
        "df = pd.read_csv(dataset_path, sep=\",\", header=0)\n",
        "print(df.head(5))\n",
        "\n",
        "\n",
        "# DATA CLEANING\n",
        "#===============================================================================\n",
        "# Extract X (questions) and y (labels) from the dataset.\n",
        "X = df['post']\n",
        "y = df['tags']\n",
        "\n",
        "# Determine the number of unique labels (programming languages) in the dataset.\n",
        "unique_labels = y.nunique()\n",
        "print(f\"\\nNumber of unique labels: {unique_labels}\")\n",
        "\n",
        "# List all programming languages present in the dataset\n",
        "programming_languages = y.unique()\n",
        "print(\"\\nProgramming languages present in the dataset:\")\n",
        "print(programming_languages)\n",
        "\n",
        "\n",
        "# ONE-HOT ENCODING\n",
        "#===============================================================================\n",
        "# Map text labels to integers using the LabelEncoder object from sklearn.preprocessing.\n",
        "label_encoder = LabelEncoder()\n",
        "y_encoded = label_encoder.fit_transform(y)\n",
        "\n",
        "# Perform one-hot encoding on the integer labels using the to_categorical function from keras.utils.\n",
        "y_one_hot = to_categorical(y_encoded)\n",
        "\n",
        "# Display the resulting one-hot encoded labels.\n",
        "print(\"\\nOne-hot encoded labels:\")\n",
        "print(y_one_hot)\n",
        "\n",
        "\n",
        "# SPLIT DATASET\n",
        "#===============================================================================\n",
        "# Split the dataset into training and test sets, with 10% of the data allocated to the test set.\n",
        "X_train, X_test, y_train, y_test = train_test_split(X, y, test_size=0.1, random_state=42)\n",
        "\n",
        "# Display the shape of the resulting splits\n",
        "print(f\"\\nTraining set size: {len(X_train)}\")\n",
        "print(f\"Test set size: {len(X_test)}\")\n",
        "\n",
        "\n",
        "# TOKENIZATION AND VECTORIZATION\n",
        "#===============================================================================\n",
        "# Tokenize the text questions using the Tokenizer object.\n",
        "# Limit the tokenizer to consider only the 500 most frequent words (use the corresponding parameter in Tokenizer).\n",
        "tokenizer = Tokenizer(num_words=500)\n",
        "tokenizer.fit_on_texts(X)\n",
        "X_sequences = tokenizer.texts_to_sequences(X)\n",
        "\n",
        "# Define the parameter dimensions to match the vocabulary size..\n",
        "dimensions = 4000\n",
        "\n",
        "# Convert the tokenized sequences into vectors of fixed length suitable for the model.\n",
        "X_vectorized = pad_sequences(X_sequences, maxlen=dimensions)\n",
        "\n",
        "# Display the resulting tokenized and vectorized data\n",
        "print(X_vectorized[:3])  # Display the first 3 vectorized questions for review\n",
        "\n",
        "\n",
        "# DEFINE KERAS MODEL\n",
        "#===============================================================================\n",
        "# Create a sequential Keras model with the following layers:\n",
        "num_classes = len(np.unique(y))\n",
        "model = Sequential([\n",
        "    Input(shape=((dimensions,))),\n",
        "    Dense(32, activation='relu'), # A Dense layer with 32 neurons and ReLU activation.\n",
        "    Dense(8, activation='relu'), # A Dense layer with 8 neurons and ReLU activation.\n",
        "    Dense(num_classes, activation='softmax')  # An output Dense layer with the number of neurons equal to the number of classes, and softmax activation.\n",
        "])\n",
        "\n",
        "# Summarize the model architecture\n",
        "model.summary()\n",
        "\n",
        "\n",
        "# COMPILE THE MODEL\n",
        "#===============================================================================\n",
        "# Use categorical_crossentropy as the loss function, adam as the optimizer, accuracy as the evaluation metric.\n",
        "model.compile(loss=\"categorical_crossentropy\", optimizer=\"adam\", metrics=[\"accuracy\"])\n",
        "\n",
        "\n",
        "# TRAIN THE MODEL\n",
        "#===============================================================================\n",
        "# Use 25% of the training set for validation.\n",
        "X_train_split, X_val_split, y_train_split, y_val_split = train_test_split(X_train, y_train, test_size=0.25, random_state=42)\n",
        "X_train_split_sequences = tokenizer.texts_to_sequences(X_train_split)\n",
        "X_train_split_padded = pad_sequences(X_train_split_sequences, maxlen=dimensions)\n",
        "y_train_split_encoded = label_encoder.transform(y_train_split)\n",
        "y_train_split_one_hot = to_categorical(y_train_split_encoded, num_classes=num_classes)\n",
        "X_val_split_sequences = tokenizer.texts_to_sequences(X_val_split)\n",
        "X_val_split_padded = pad_sequences(X_val_split_sequences, maxlen=dimensions)\n",
        "y_val_split_encoded = label_encoder.transform(y_val_split)\n",
        "y_val_split_one_hot = to_categorical(y_val_split_encoded, num_classes=num_classes)\n",
        "\n",
        "# Train the model for 8 epochs with a batch size of 8.\n",
        "history = model.fit(\n",
        "    X_train_split_padded, y_train_split_one_hot,\n",
        "    epochs=8,\n",
        "    batch_size=8,\n",
        "    validation_data=(X_val_split_padded, y_val_split_one_hot),\n",
        "    verbose=1\n",
        ")\n",
        "\n",
        "# Record and display the training and validation accuracy and loss.\n",
        "# Record and display the accuracy and loss values.\n",
        "print(\"\\nTraining history:\")\n",
        "print(\"Training Accuracy:\", history.history['accuracy'])\n",
        "print(\"Validation Accuracy:\", history.history['val_accuracy'])\n",
        "print(\"Training Loss:\", history.history['loss'])\n",
        "print(\"Validation Loss:\", history.history['val_loss'])\n",
        "\n",
        "# Plot these values graphically.\n",
        "epochs_range = range(1, 9)\n",
        "acc = history.history['accuracy']\n",
        "val_acc = history.history['val_accuracy']\n",
        "loss = history.history['loss']\n",
        "val_loss = history.history['val_loss']\n",
        "\n",
        "plt.figure(figsize=(8, 5))\n",
        "plt.plot(epochs_range, acc, label='Training Accuracy', marker='o')\n",
        "plt.plot(epochs_range, val_acc, label='Validation Accuracy', marker='o')\n",
        "plt.plot(epochs_range, loss, label='Training Loss', linestyle='dashed', marker='s')\n",
        "plt.plot(epochs_range, val_loss, label='Validation Loss', linestyle='dashed', marker='s')\n",
        "\n",
        "plt.xlabel(\"Epochs\")\n",
        "plt.ylabel(\"Value\")\n",
        "plt.title(\"Training & Validation Accuracy and Loss\")\n",
        "plt.legend()\n",
        "plt.grid(True)\n",
        "plt.show()\n",
        "\n",
        "# EVALUATE THE MODEL\n",
        "#===============================================================================\n",
        "X_test_sequences = tokenizer.texts_to_sequences(X_test)\n",
        "X_test_vectorized = pad_sequences(X_test_sequences, maxlen=dimensions)\n",
        "y_test_encoded = label_encoder.transform(y_test)\n",
        "y_test_one_hot = to_categorical(y_test_encoded)\n",
        "test_loss, test_accuracy = model.evaluate(X_test_vectorized, y_test_one_hot, verbose=1)\n",
        "print(f\"\\nTest Loss: {test_loss}\")\n",
        "print(f\"Test Accuracy: {test_accuracy}\")\n",
        "\n",
        "\n",
        "# CONFUSION MATRIX\n",
        "#===============================================================================\n",
        "from sklearn.metrics import confusion_matrix\n",
        "import seaborn as sns\n",
        "import matplotlib.pyplot as plt\n",
        "\n",
        "# Vectorize the X_test data (same preprocessing as for X_train)\n",
        "X_test_sequences = tokenizer.texts_to_sequences(X_test)\n",
        "X_test_vectorized = pad_sequences(X_test_sequences, maxlen=dimensions)\n",
        "\n",
        "# Make predictions on the test set\n",
        "y_pred_prob = model.predict(X_test_vectorized)\n",
        "\n",
        "# Convert probabilities to class labels\n",
        "y_pred = np.argmax(y_pred_prob, axis=1)\n",
        "\n",
        "# Get the true class labels from y_test\n",
        "y_test_encoded = label_encoder.transform(y_test)\n",
        "\n",
        "# Generate confusion matrix\n",
        "cm = confusion_matrix(y_test_encoded, y_pred)\n",
        "\n",
        "# Plot the confusion matrix\n",
        "plt.figure(figsize=(10, 8))\n",
        "sns.heatmap(cm, annot=True, fmt=\"d\", cmap=\"Blues\", xticklabels=label_encoder.classes_, yticklabels=label_encoder.classes_)\n",
        "plt.title('Confusion Matrix')\n",
        "plt.xlabel('Predicted Label')\n",
        "plt.ylabel('True Label')\n",
        "plt.show()\n"
      ],
      "metadata": {
        "colab": {
          "base_uri": "https://localhost:8080/",
          "height": 1000
        },
        "id": "9A7lBIAoW0mA",
        "outputId": "343fe30e-6eef-4cf3-abf9-8e22797f159a"
      },
      "execution_count": 3,
      "outputs": [
        {
          "output_type": "stream",
          "name": "stdout",
          "text": [
            "                                                post        tags\n",
            "0  -version with java and javac  the <code>-versi...        java\n",
            "1  getting a nan error in javascript add function...  javascript\n",
            "2  Hi im trying to make a client and server which...          c#\n",
            "3  when i have typed in this code nothing happens...      python\n",
            "4  different between changing arraylist by setter...        java\n",
            "\n",
            "Number of unique labels: 4\n",
            "\n",
            "Programming languages present in the dataset:\n",
            "['java' 'javascript' 'c#' 'python']\n",
            "\n",
            "One-hot encoded labels:\n",
            "[[0. 1. 0. 0.]\n",
            " [0. 0. 1. 0.]\n",
            " [1. 0. 0. 0.]\n",
            " ...\n",
            " [0. 1. 0. 0.]\n",
            " [0. 1. 0. 0.]\n",
            " [0. 1. 0. 0.]]\n",
            "\n",
            "Training set size: 1791\n",
            "Test set size: 199\n",
            "[[  0   0   0 ...   3   3   1]\n",
            " [  0   0   0 ...  88   6  88]\n",
            " [  0   0   0 ...  75  95 136]]\n"
          ]
        },
        {
          "output_type": "display_data",
          "data": {
            "text/plain": [
              "\u001b[1mModel: \"sequential_1\"\u001b[0m\n"
            ],
            "text/html": [
              "<pre style=\"white-space:pre;overflow-x:auto;line-height:normal;font-family:Menlo,'DejaVu Sans Mono',consolas,'Courier New',monospace\"><span style=\"font-weight: bold\">Model: \"sequential_1\"</span>\n",
              "</pre>\n"
            ]
          },
          "metadata": {}
        },
        {
          "output_type": "display_data",
          "data": {
            "text/plain": [
              "┏━━━━━━━━━━━━━━━━━━━━━━━━━━━━━━━━━━━━━━┳━━━━━━━━━━━━━━━━━━━━━━━━━━━━━┳━━━━━━━━━━━━━━━━━┓\n",
              "┃\u001b[1m \u001b[0m\u001b[1mLayer (type)                        \u001b[0m\u001b[1m \u001b[0m┃\u001b[1m \u001b[0m\u001b[1mOutput Shape               \u001b[0m\u001b[1m \u001b[0m┃\u001b[1m \u001b[0m\u001b[1m        Param #\u001b[0m\u001b[1m \u001b[0m┃\n",
              "┡━━━━━━━━━━━━━━━━━━━━━━━━━━━━━━━━━━━━━━╇━━━━━━━━━━━━━━━━━━━━━━━━━━━━━╇━━━━━━━━━━━━━━━━━┩\n",
              "│ dense_3 (\u001b[38;5;33mDense\u001b[0m)                      │ (\u001b[38;5;45mNone\u001b[0m, \u001b[38;5;34m32\u001b[0m)                  │         \u001b[38;5;34m128,032\u001b[0m │\n",
              "├──────────────────────────────────────┼─────────────────────────────┼─────────────────┤\n",
              "│ dense_4 (\u001b[38;5;33mDense\u001b[0m)                      │ (\u001b[38;5;45mNone\u001b[0m, \u001b[38;5;34m8\u001b[0m)                   │             \u001b[38;5;34m264\u001b[0m │\n",
              "├──────────────────────────────────────┼─────────────────────────────┼─────────────────┤\n",
              "│ dense_5 (\u001b[38;5;33mDense\u001b[0m)                      │ (\u001b[38;5;45mNone\u001b[0m, \u001b[38;5;34m4\u001b[0m)                   │              \u001b[38;5;34m36\u001b[0m │\n",
              "└──────────────────────────────────────┴─────────────────────────────┴─────────────────┘\n"
            ],
            "text/html": [
              "<pre style=\"white-space:pre;overflow-x:auto;line-height:normal;font-family:Menlo,'DejaVu Sans Mono',consolas,'Courier New',monospace\">┏━━━━━━━━━━━━━━━━━━━━━━━━━━━━━━━━━━━━━━┳━━━━━━━━━━━━━━━━━━━━━━━━━━━━━┳━━━━━━━━━━━━━━━━━┓\n",
              "┃<span style=\"font-weight: bold\"> Layer (type)                         </span>┃<span style=\"font-weight: bold\"> Output Shape                </span>┃<span style=\"font-weight: bold\">         Param # </span>┃\n",
              "┡━━━━━━━━━━━━━━━━━━━━━━━━━━━━━━━━━━━━━━╇━━━━━━━━━━━━━━━━━━━━━━━━━━━━━╇━━━━━━━━━━━━━━━━━┩\n",
              "│ dense_3 (<span style=\"color: #0087ff; text-decoration-color: #0087ff\">Dense</span>)                      │ (<span style=\"color: #00d7ff; text-decoration-color: #00d7ff\">None</span>, <span style=\"color: #00af00; text-decoration-color: #00af00\">32</span>)                  │         <span style=\"color: #00af00; text-decoration-color: #00af00\">128,032</span> │\n",
              "├──────────────────────────────────────┼─────────────────────────────┼─────────────────┤\n",
              "│ dense_4 (<span style=\"color: #0087ff; text-decoration-color: #0087ff\">Dense</span>)                      │ (<span style=\"color: #00d7ff; text-decoration-color: #00d7ff\">None</span>, <span style=\"color: #00af00; text-decoration-color: #00af00\">8</span>)                   │             <span style=\"color: #00af00; text-decoration-color: #00af00\">264</span> │\n",
              "├──────────────────────────────────────┼─────────────────────────────┼─────────────────┤\n",
              "│ dense_5 (<span style=\"color: #0087ff; text-decoration-color: #0087ff\">Dense</span>)                      │ (<span style=\"color: #00d7ff; text-decoration-color: #00d7ff\">None</span>, <span style=\"color: #00af00; text-decoration-color: #00af00\">4</span>)                   │              <span style=\"color: #00af00; text-decoration-color: #00af00\">36</span> │\n",
              "└──────────────────────────────────────┴─────────────────────────────┴─────────────────┘\n",
              "</pre>\n"
            ]
          },
          "metadata": {}
        },
        {
          "output_type": "display_data",
          "data": {
            "text/plain": [
              "\u001b[1m Total params: \u001b[0m\u001b[38;5;34m128,332\u001b[0m (501.30 KB)\n"
            ],
            "text/html": [
              "<pre style=\"white-space:pre;overflow-x:auto;line-height:normal;font-family:Menlo,'DejaVu Sans Mono',consolas,'Courier New',monospace\"><span style=\"font-weight: bold\"> Total params: </span><span style=\"color: #00af00; text-decoration-color: #00af00\">128,332</span> (501.30 KB)\n",
              "</pre>\n"
            ]
          },
          "metadata": {}
        },
        {
          "output_type": "display_data",
          "data": {
            "text/plain": [
              "\u001b[1m Trainable params: \u001b[0m\u001b[38;5;34m128,332\u001b[0m (501.30 KB)\n"
            ],
            "text/html": [
              "<pre style=\"white-space:pre;overflow-x:auto;line-height:normal;font-family:Menlo,'DejaVu Sans Mono',consolas,'Courier New',monospace\"><span style=\"font-weight: bold\"> Trainable params: </span><span style=\"color: #00af00; text-decoration-color: #00af00\">128,332</span> (501.30 KB)\n",
              "</pre>\n"
            ]
          },
          "metadata": {}
        },
        {
          "output_type": "display_data",
          "data": {
            "text/plain": [
              "\u001b[1m Non-trainable params: \u001b[0m\u001b[38;5;34m0\u001b[0m (0.00 B)\n"
            ],
            "text/html": [
              "<pre style=\"white-space:pre;overflow-x:auto;line-height:normal;font-family:Menlo,'DejaVu Sans Mono',consolas,'Courier New',monospace\"><span style=\"font-weight: bold\"> Non-trainable params: </span><span style=\"color: #00af00; text-decoration-color: #00af00\">0</span> (0.00 B)\n",
              "</pre>\n"
            ]
          },
          "metadata": {}
        },
        {
          "output_type": "stream",
          "name": "stdout",
          "text": [
            "Epoch 1/8\n",
            "\u001b[1m168/168\u001b[0m \u001b[32m━━━━━━━━━━━━━━━━━━━━\u001b[0m\u001b[37m\u001b[0m \u001b[1m4s\u001b[0m 11ms/step - accuracy: 0.2571 - loss: 4.0615 - val_accuracy: 0.2656 - val_loss: 1.3928\n",
            "Epoch 2/8\n",
            "\u001b[1m168/168\u001b[0m \u001b[32m━━━━━━━━━━━━━━━━━━━━\u001b[0m\u001b[37m\u001b[0m \u001b[1m2s\u001b[0m 5ms/step - accuracy: 0.2816 - loss: 1.3890 - val_accuracy: 0.2723 - val_loss: 1.3851\n",
            "Epoch 3/8\n",
            "\u001b[1m168/168\u001b[0m \u001b[32m━━━━━━━━━━━━━━━━━━━━\u001b[0m\u001b[37m\u001b[0m \u001b[1m1s\u001b[0m 5ms/step - accuracy: 0.2642 - loss: 1.3833 - val_accuracy: 0.2723 - val_loss: 1.3874\n",
            "Epoch 4/8\n",
            "\u001b[1m168/168\u001b[0m \u001b[32m━━━━━━━━━━━━━━━━━━━━\u001b[0m\u001b[37m\u001b[0m \u001b[1m1s\u001b[0m 5ms/step - accuracy: 0.2552 - loss: 1.3746 - val_accuracy: 0.2723 - val_loss: 1.3901\n",
            "Epoch 5/8\n",
            "\u001b[1m168/168\u001b[0m \u001b[32m━━━━━━━━━━━━━━━━━━━━\u001b[0m\u001b[37m\u001b[0m \u001b[1m1s\u001b[0m 5ms/step - accuracy: 0.2542 - loss: 1.3779 - val_accuracy: 0.2701 - val_loss: 1.3909\n",
            "Epoch 6/8\n",
            "\u001b[1m168/168\u001b[0m \u001b[32m━━━━━━━━━━━━━━━━━━━━\u001b[0m\u001b[37m\u001b[0m \u001b[1m1s\u001b[0m 5ms/step - accuracy: 0.2652 - loss: 1.3767 - val_accuracy: 0.2701 - val_loss: 1.3917\n",
            "Epoch 7/8\n",
            "\u001b[1m168/168\u001b[0m \u001b[32m━━━━━━━━━━━━━━━━━━━━\u001b[0m\u001b[37m\u001b[0m \u001b[1m1s\u001b[0m 6ms/step - accuracy: 0.2759 - loss: 1.3727 - val_accuracy: 0.2723 - val_loss: 1.3925\n",
            "Epoch 8/8\n",
            "\u001b[1m168/168\u001b[0m \u001b[32m━━━━━━━━━━━━━━━━━━━━\u001b[0m\u001b[37m\u001b[0m \u001b[1m2s\u001b[0m 9ms/step - accuracy: 0.2568 - loss: 1.3745 - val_accuracy: 0.2857 - val_loss: 1.4116\n",
            "\n",
            "Training history:\n",
            "Training Accuracy: [0.24571853876113892, 0.26805660128593445, 0.27029040455818176, 0.27029040455818176, 0.27029040455818176, 0.27029040455818176, 0.27029040455818176, 0.2740134000778198]\n",
            "Validation Accuracy: [0.265625, 0.2723214328289032, 0.2723214328289032, 0.2723214328289032, 0.2700892984867096, 0.2700892984867096, 0.2723214328289032, 0.2857142984867096]\n",
            "Training Loss: [2.15065598487854, 1.3864973783493042, 1.3805598020553589, 1.3772809505462646, 1.3761217594146729, 1.3758512735366821, 1.3756428956985474, 1.375677227973938]\n",
            "Validation Loss: [1.3927685022354126, 1.3850516080856323, 1.3874385356903076, 1.390084981918335, 1.390868067741394, 1.3917443752288818, 1.3925426006317139, 1.4116061925888062]\n"
          ]
        },
        {
          "output_type": "display_data",
          "data": {
            "text/plain": [
              "<Figure size 800x500 with 1 Axes>"
            ],
            "image/png": "[encoded data removed]"
          },
          "metadata": {}
        },
        {
          "output_type": "stream",
          "name": "stdout",
          "text": [
            "\u001b[1m7/7\u001b[0m \u001b[32m━━━━━━━━━━━━━━━━━━━━\u001b[0m\u001b[37m\u001b[0m \u001b[1m0s\u001b[0m 15ms/step - accuracy: 0.2617 - loss: 1.5074 \n",
            "\n",
            "Test Loss: 1.5569134950637817\n",
            "Test Accuracy: 0.25628140568733215\n",
            "\u001b[1m7/7\u001b[0m \u001b[32m━━━━━━━━━━━━━━━━━━━━\u001b[0m\u001b[37m\u001b[0m \u001b[1m0s\u001b[0m 18ms/step\n"
          ]
        },
        {
          "output_type": "display_data",
          "data": {
            "text/plain": [
              "<Figure size 1000x800 with 2 Axes>"
            ],
            "image/png": "[encoded data removed]"
          },
          "metadata": {}
        }
      ]
    },
    {
      "cell_type": "markdown",
      "source": [
        "### Summary of Task 2\n",
        "The model trained on the StackOverflow dataset shows modest improvements in both training and validation accuracy. Despite reducing training loss to a certain extent, the validation loss remained higher, suggesting potential overfitting. The test accuracy was 0.256, indicating that the model's performance on unseen data is similar to the training results. The confusion matrix provides insights into the misclassifications. This indicates the areas where the model has issues detecting specific classes. In summary, while the model shows learning progress, its performance is still not satisfactory, and further adjustments are necessary to improve accuracy and generalization."
      ],
      "metadata": {
        "id": "AvlDbFU-Nbjm"
      }
    }
  ]
}