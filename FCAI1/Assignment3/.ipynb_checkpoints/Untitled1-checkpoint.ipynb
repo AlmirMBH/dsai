{
 "cells": [
  {
   "cell_type": "code",
   "execution_count": 1,
   "id": "138f983b-c7a7-4c3c-bce8-55e93c79f79d",
   "metadata": {},
   "outputs": [],
   "source": [
    "import pandas as pd"
   ]
  },
  {
   "cell_type": "code",
   "execution_count": 2,
   "id": "b773bb31-cb58-4882-93c1-438861b54d09",
   "metadata": {},
   "outputs": [],
   "source": [
    "data = pd.read_csv('report.csv')"
   ]
  },
  {
   "cell_type": "code",
   "execution_count": 3,
   "id": "29f6a5c8-3a40-4aa5-b501-a473c6d8f95a",
   "metadata": {},
   "outputs": [
    {
     "name": "stdout",
     "output_type": "stream",
     "text": [
      "   id  index  attendance exam1 exam2 exam1_remedial exam2_remedial  total  \\\n",
      "0   1  94-ST          10   9.4   7.5          12.08          13.73  35.81   \n",
      "1   2  77-ST          10   8.5     /              /              /  35.50   \n",
      "2   3  69-ST          10    17     /              /              /  39.50   \n",
      "3   4  79-ST           0   7.6   4.8              /              /  12.40   \n",
      "4   5  89-ST          10  10.6  12.5          12.58              /  35.08   \n",
      "\n",
      "  grade  \n",
      "0     7  \n",
      "1     7  \n",
      "2     9  \n",
      "3     /  \n",
      "4     6  \n"
     ]
    }
   ],
   "source": [
    "print(data.head())"
   ]
  },
  {
   "cell_type": "code",
   "execution_count": null,
   "id": "57e68576-385b-42f0-858c-56fbce3847d4",
   "metadata": {},
   "outputs": [],
   "source": []
  }
 ],
 "metadata": {
  "kernelspec": {
   "display_name": "Python (dsai_env)",
   "language": "python",
   "name": "dsai_env"
  },
  "language_info": {
   "codemirror_mode": {
    "name": "ipython",
    "version": 3
   },
   "file_extension": ".py",
   "mimetype": "text/x-python",
   "name": "python",
   "nbconvert_exporter": "python",
   "pygments_lexer": "ipython3",
   "version": "3.10.10"
  }
 },
 "nbformat": 4,
 "nbformat_minor": 5
}
